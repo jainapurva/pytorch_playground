{
 "cells": [
  {
   "cell_type": "code",
   "execution_count": 1,
   "metadata": {
    "output": {
     "id": 808765337856107,
     "loadingStatus": "loaded"
    }
   },
   "outputs": [],
   "source": [
    "import torch\n",
    "import math\n",
    "from torch.nn.functional import scaled_dot_product_attention\n",
    "\n",
    "def gqa_scaled_dot_product_attention(query, key, value, n_groups: int) -> torch.Tensor:\n",
    "    L, S = query.size(-2), key.size(-2)\n",
    "    print(key.shape)\n",
    "    key = torch.repeat_interleave(key, n_groups, dim=-3)\n",
    "    print(key.shape)\n",
    "    attn_weight = query @ key.transpose(-2, -1) \n",
    "    attn_weight = torch.softmax(attn_weight, dim=-1)\n",
    "    value = torch.repeat_interleave(value, n_groups, dim=-3)\n",
    "    return attn_weight @ value"
   ]
  },
  {
   "cell_type": "code",
   "execution_count": 2,
   "metadata": {},
   "outputs": [],
   "source": [
    "# Testing the sdpa for 5d tensor (batch size, head, group, seq, seq)"
   ]
  },
  {
   "cell_type": "code",
   "execution_count": 3,
   "metadata": {},
   "outputs": [],
   "source": [
    "q = torch.arange(400).view(1,4,1,10,10) * 1.0\n",
    "kv = torch.arange(100).view(1,1,1,10,10) * 1.0"
   ]
  },
  {
   "cell_type": "code",
   "execution_count": 4,
   "metadata": {},
   "outputs": [
    {
     "name": "stdout",
     "output_type": "stream",
     "text": [
      "torch.Size([1, 1, 1, 10, 10])\n",
      "torch.Size([1, 1, 4, 10, 10])\n",
      "torch.Size([1, 4, 4, 10, 10])\n"
     ]
    }
   ],
   "source": [
    "gqa_ = gqa_scaled_dot_product_attention(q, kv, kv, 4)\n",
    "print(gqa_.shape)"
   ]
  },
  {
   "cell_type": "code",
   "execution_count": 5,
   "metadata": {},
   "outputs": [
    {
     "name": "stdout",
     "output_type": "stream",
     "text": [
      "torch.Size([1, 4, 1, 10, 10])\n"
     ]
    }
   ],
   "source": [
    "sdpa_ = scaled_dot_product_attention(query=q, key=kv, value=kv)\n",
    "print(sdpa_.shape)"
   ]
  },
  {
   "cell_type": "code",
   "execution_count": 6,
   "metadata": {},
   "outputs": [],
   "source": [
    "# Testing the sdpa theory for 4d tensor (batch size, head, seq, seq)"
   ]
  },
  {
   "cell_type": "code",
   "execution_count": 7,
   "metadata": {},
   "outputs": [
    {
     "name": "stdout",
     "output_type": "stream",
     "text": [
      "torch.Size([1, 8, 10, 10])\n",
      "torch.Size([1, 32, 10, 10])\n",
      "torch.Size([1, 32, 10, 10])\n"
     ]
    }
   ],
   "source": [
    "q_ = torch.arange(3200).view(1,32,10,10) * 1.0\n",
    "kv_ = torch.arange(800).view(1,8,10,10) * 1.0\n",
    "\n",
    "gqa = gqa_scaled_dot_product_attention(q_, kv_, kv_, 4)\n",
    "print(gqa.shape)"
   ]
  },
  {
   "cell_type": "code",
   "execution_count": 8,
   "metadata": {},
   "outputs": [
    {
     "ename": "RuntimeError",
     "evalue": "The size of tensor a (32) must match the size of tensor b (8) at non-singleton dimension 1",
     "output_type": "error",
     "traceback": [
      "\u001b[0;31m---------------------------------------------------------------------------\u001b[0m",
      "\u001b[0;31mRuntimeError\u001b[0m                              Traceback (most recent call last)",
      "Cell \u001b[0;32mIn[8], line 1\u001b[0m\n\u001b[0;32m----> 1\u001b[0m \u001b[43mscaled_dot_product_attention\u001b[49m\u001b[43m(\u001b[49m\u001b[43mquery\u001b[49m\u001b[38;5;241;43m=\u001b[39;49m\u001b[43mq_\u001b[49m\u001b[43m,\u001b[49m\u001b[43m \u001b[49m\u001b[43mkey\u001b[49m\u001b[38;5;241;43m=\u001b[39;49m\u001b[43mkv_\u001b[49m\u001b[43m,\u001b[49m\u001b[43m \u001b[49m\u001b[43mvalue\u001b[49m\u001b[38;5;241;43m=\u001b[39;49m\u001b[43mkv_\u001b[49m\u001b[43m)\u001b[49m\n",
      "\u001b[0;31mRuntimeError\u001b[0m: The size of tensor a (32) must match the size of tensor b (8) at non-singleton dimension 1"
     ]
    }
   ],
   "source": [
    "scaled_dot_product_attention(query=q_, key=kv_, value=kv_)\n",
    "# This won't work coz first non-singleton dimension of q and kv needs to be same, hence for gqa we need to feed same size tensor "
   ]
  },
  {
   "cell_type": "code",
   "execution_count": null,
   "metadata": {},
   "outputs": [],
   "source": [
    "kv_ = torch.repeat_interleave(kv_, 4, dim=-3)\n",
    "sdpa = scaled_dot_product_attention(query=q_, key=kv_, value=kv_)"
   ]
  },
  {
   "cell_type": "code",
   "execution_count": null,
   "metadata": {},
   "outputs": [],
   "source": [
    "torch.all(gqa == sdpa_)"
   ]
  },
  {
   "cell_type": "code",
   "execution_count": null,
   "metadata": {},
   "outputs": [],
   "source": [
    "# sdpa_ = scaled_dot_product_attention(query=q, key=kv, value=kv)\n",
    "# print(sdpa_.shape)"
   ]
  },
  {
   "cell_type": "code",
   "execution_count": null,
   "metadata": {},
   "outputs": [],
   "source": []
  }
 ],
 "metadata": {
  "kernelspec": {
   "display_name": "Python (dev)",
   "language": "python",
   "name": "dev"
  },
  "language_info": {
   "codemirror_mode": {
    "name": "ipython",
    "version": 3
   },
   "file_extension": ".py",
   "mimetype": "text/x-python",
   "name": "python",
   "nbconvert_exporter": "python",
   "pygments_lexer": "ipython3",
   "version": "3.10.14"
  }
 },
 "nbformat": 4,
 "nbformat_minor": 4
}
